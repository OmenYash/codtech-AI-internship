{
 "cells": [
  {
   "cell_type": "code",
   "execution_count": 1,
   "metadata": {
    "colab": {
     "base_uri": "https://localhost:8080/"
    },
    "id": "hrrHzYhTrfIa",
    "outputId": "390aa1fc-38ea-4b58-9b2d-1944411e562f"
   },
   "outputs": [
    {
     "name": "stdout",
     "output_type": "stream",
     "text": [
      "Requirement already satisfied: transformers in /usr/local/lib/python3.11/dist-packages (4.52.4)\n",
      "Requirement already satisfied: filelock in /usr/local/lib/python3.11/dist-packages (from transformers) (3.18.0)\n",
      "Requirement already satisfied: huggingface-hub<1.0,>=0.30.0 in /usr/local/lib/python3.11/dist-packages (from transformers) (0.33.0)\n",
      "Requirement already satisfied: numpy>=1.17 in /usr/local/lib/python3.11/dist-packages (from transformers) (2.0.2)\n",
      "Requirement already satisfied: packaging>=20.0 in /usr/local/lib/python3.11/dist-packages (from transformers) (24.2)\n",
      "Requirement already satisfied: pyyaml>=5.1 in /usr/local/lib/python3.11/dist-packages (from transformers) (6.0.2)\n",
      "Requirement already satisfied: regex!=2019.12.17 in /usr/local/lib/python3.11/dist-packages (from transformers) (2024.11.6)\n",
      "Requirement already satisfied: requests in /usr/local/lib/python3.11/dist-packages (from transformers) (2.32.3)\n",
      "Requirement already satisfied: tokenizers<0.22,>=0.21 in /usr/local/lib/python3.11/dist-packages (from transformers) (0.21.2)\n",
      "Requirement already satisfied: safetensors>=0.4.3 in /usr/local/lib/python3.11/dist-packages (from transformers) (0.5.3)\n",
      "Requirement already satisfied: tqdm>=4.27 in /usr/local/lib/python3.11/dist-packages (from transformers) (4.67.1)\n",
      "Requirement already satisfied: fsspec>=2023.5.0 in /usr/local/lib/python3.11/dist-packages (from huggingface-hub<1.0,>=0.30.0->transformers) (2025.3.2)\n",
      "Requirement already satisfied: typing-extensions>=3.7.4.3 in /usr/local/lib/python3.11/dist-packages (from huggingface-hub<1.0,>=0.30.0->transformers) (4.14.0)\n",
      "Requirement already satisfied: hf-xet<2.0.0,>=1.1.2 in /usr/local/lib/python3.11/dist-packages (from huggingface-hub<1.0,>=0.30.0->transformers) (1.1.5)\n",
      "Requirement already satisfied: charset-normalizer<4,>=2 in /usr/local/lib/python3.11/dist-packages (from requests->transformers) (3.4.2)\n",
      "Requirement already satisfied: idna<4,>=2.5 in /usr/local/lib/python3.11/dist-packages (from requests->transformers) (3.10)\n",
      "Requirement already satisfied: urllib3<3,>=1.21.1 in /usr/local/lib/python3.11/dist-packages (from requests->transformers) (2.4.0)\n",
      "Requirement already satisfied: certifi>=2017.4.17 in /usr/local/lib/python3.11/dist-packages (from requests->transformers) (2025.6.15)\n"
     ]
    }
   ],
   "source": [
    "# 📦 Install required libraries\n",
    "!pip install transformers\n"
   ]
  },
  {
   "cell_type": "code",
   "execution_count": 2,
   "metadata": {
    "colab": {
     "base_uri": "https://localhost:8080/",
     "height": 429,
     "referenced_widgets": [
      "069b50449b6546b68eed4d8dcecaf8c6",
      "4b6d410629474cb4a571c53c003f587f",
      "ba0c4230ad2c40c2985e1a5aa89a7620",
      "530085b01b614413960c2fdf2b1fd6f7",
      "1b1b2b7d0f3f4480ab862c39a2032bbb",
      "edcfa6aa05b4415e81e726ffb183f18b",
      "85e196fc3cd24774b3c19c0757a16d30",
      "5d8bebeffb5b4743947b0ef6a23cd829",
      "a6c621b883bc417e8c6be121aded9f3c",
      "9f33ec137fe24d1fb3bb498528d9b045",
      "b98ccc0113c4482ab1833f2354c8d247",
      "3c4026f3468442c0bd1665455833dc95",
      "0001c639bdf64df2bdd6b9bda1dfaccd",
      "c0b20a8b012d40628a95fb23512394e0",
      "d75da7b61d9c4c93840f309588b82c75",
      "14c64e83826d413098bbc84eda61ffe2",
      "2b01eb674cc34dc183f3d3bdf0f751b8",
      "f296c14baa7d4e958c78959c4f8a2387",
      "5eb2bdd0b6a6484fa70194bfcc16b5a9",
      "b57b5d29519a45dd9d3389c518afe842",
      "2d9fde6236f04714b0f14ad210ac8129",
      "677bc6c6636d4554b10da5a431359fa3",
      "171fd0dcca4047e98c5a84afd16df1fb",
      "4b1c2fdfbec9488f83ece53f64ec84ab",
      "f875a8cb3cd245f1ab9cb74ba373272f",
      "5d6adab58ad945848893357d1697a855",
      "7b7a17cd9f1944eaa8a362a2cf842c07",
      "bef47da1fe0e4f339125de7a2937d9d3",
      "35f6240daf3742d0ba7065adaa11d905",
      "600fda8b3b85482bb015b57ea1d867ae",
      "7d2eaac25d9f48dab83fe86ccf7d7b5e",
      "f953c7a90e2a4188baf67370f803ee82",
      "88e2ead4fbd74ef089c1dc27592f766e",
      "3ab1d149752648cb8fda086af0dc3c3e",
      "4993308ca4714373bc9e0513e590cd50",
      "a37f6aebcead43bfa343bdd1b8d88f90",
      "94b19aa4a387457597b88616f795247c",
      "7de7531f0af842368c8b2b3c1c01f10d",
      "55c0ef14d06e41169f2570ac192e8255",
      "998bdb7c0ed74098b4059a14478de07a",
      "a841f3d139694fc58df118e978d80cd0",
      "b522e490a7e54856be366a32ecdce9e5",
      "246dd3fc8469430b90e16f0589d22650",
      "a548380a1e494c95ae7350ac42af81ca",
      "062f95cf40a54161ab10f5fdde8623e6",
      "d11e7cf403d84b2ebc0b0465582d4701",
      "93d2a676cbe34a5497259874b6f6f603",
      "e87a7d81be8c4854b3e1975aa8d6c825",
      "e89fe8333fec408aaa9f2a8bf629f84f",
      "678c899229b2482bb8aa62e2a1df7399",
      "106de449c5eb4c2ba4b2d63863ebdbc0",
      "1da71fac7003431a9e658218f8cf2b2c",
      "24a8e080180542a997b5c152c85faa22",
      "ea229c2647554ee8b49539d27a337876",
      "089e6441b47d4ff8b22e61ce98c3e6e1",
      "62b82b301dac4bfbb01e2d592c4667ed",
      "b6a4a676447c49458266b304dc1bdc0e",
      "227ef5267b984f2882b5f04baae650af",
      "9c9b2c12cd894f51a85e294236b7aa5e",
      "839bdb92737b464bbebdfb7ff2b561c8",
      "3f5d5303c1214b57a044087603f64fac",
      "86a09c27b233477890934c680b019c8b",
      "8c57ad9795b94fb4851f03738d41d475",
      "2ef90c585f684ddcac2a7d2456905247",
      "d96a0d65b20e4ff2a2e185f4a4dd11c6",
      "8b9a1ec4203d448f86a53d9b9a9ec219"
     ]
    },
    "id": "O-N3GddaraJ_",
    "outputId": "2e985282-692b-47cd-d851-f1cfe26df3e4"
   },
   "outputs": [
    {
     "name": "stderr",
     "output_type": "stream",
     "text": [
      "No model was supplied, defaulted to sshleifer/distilbart-cnn-12-6 and revision a4f8f3e (https://huggingface.co/sshleifer/distilbart-cnn-12-6).\n",
      "Using a pipeline without specifying a model name and revision in production is not recommended.\n",
      "/usr/local/lib/python3.11/dist-packages/huggingface_hub/utils/_auth.py:94: UserWarning: \n",
      "The secret `HF_TOKEN` does not exist in your Colab secrets.\n",
      "To authenticate with the Hugging Face Hub, create a token in your settings tab (https://huggingface.co/settings/tokens), set it as secret in your Google Colab and restart your session.\n",
      "You will be able to reuse this secret in all of your notebooks.\n",
      "Please note that authentication is recommended but still optional to access public models or datasets.\n",
      "  warnings.warn(\n"
     ]
    },
    {
     "data": {
      "application/vnd.jupyter.widget-view+json": {
       "model_id": "069b50449b6546b68eed4d8dcecaf8c6",
       "version_major": 2,
       "version_minor": 0
      },
      "text/plain": [
       "config.json: 0.00B [00:00, ?B/s]"
      ]
     },
     "metadata": {},
     "output_type": "display_data"
    },
    {
     "data": {
      "application/vnd.jupyter.widget-view+json": {
       "model_id": "3c4026f3468442c0bd1665455833dc95",
       "version_major": 2,
       "version_minor": 0
      },
      "text/plain": [
       "pytorch_model.bin:   0%|          | 0.00/1.22G [00:00<?, ?B/s]"
      ]
     },
     "metadata": {},
     "output_type": "display_data"
    },
    {
     "data": {
      "application/vnd.jupyter.widget-view+json": {
       "model_id": "171fd0dcca4047e98c5a84afd16df1fb",
       "version_major": 2,
       "version_minor": 0
      },
      "text/plain": [
       "model.safetensors:   0%|          | 0.00/1.22G [00:00<?, ?B/s]"
      ]
     },
     "metadata": {},
     "output_type": "display_data"
    },
    {
     "data": {
      "application/vnd.jupyter.widget-view+json": {
       "model_id": "3ab1d149752648cb8fda086af0dc3c3e",
       "version_major": 2,
       "version_minor": 0
      },
      "text/plain": [
       "tokenizer_config.json:   0%|          | 0.00/26.0 [00:00<?, ?B/s]"
      ]
     },
     "metadata": {},
     "output_type": "display_data"
    },
    {
     "data": {
      "application/vnd.jupyter.widget-view+json": {
       "model_id": "062f95cf40a54161ab10f5fdde8623e6",
       "version_major": 2,
       "version_minor": 0
      },
      "text/plain": [
       "vocab.json: 0.00B [00:00, ?B/s]"
      ]
     },
     "metadata": {},
     "output_type": "display_data"
    },
    {
     "data": {
      "application/vnd.jupyter.widget-view+json": {
       "model_id": "62b82b301dac4bfbb01e2d592c4667ed",
       "version_major": 2,
       "version_minor": 0
      },
      "text/plain": [
       "merges.txt: 0.00B [00:00, ?B/s]"
      ]
     },
     "metadata": {},
     "output_type": "display_data"
    },
    {
     "name": "stderr",
     "output_type": "stream",
     "text": [
      "Device set to use cpu\n"
     ]
    },
    {
     "name": "stdout",
     "output_type": "stream",
     "text": [
      "Summary:\n",
      " Artificial Intelligence (AI) is transforming the way we live and work . Its applications span across healthcare, finance, education and beyond . However, ethical concerns such as job displacement and privacy need to be carefully addressed .\n"
     ]
    }
   ],
   "source": [
    "from transformers import pipeline\n",
    "\n",
    "# Create a summarization pipeline\n",
    "# 🧠 Load a pre-trained summarization pipeline from HuggingFace\n",
    "summarizer = pipeline(\"summarization\")\n",
    "\n",
    "# Long input text\n",
    "# 📝 Long article/text to be summarized\n",
    "text = \"\"\"\n",
    "Artificial Intelligence (AI) is transforming the way we live and work.\n",
    "From self-driving cars to advanced virtual assistants, AI is making systems smarter and more capable.\n",
    "Its applications span across healthcare, finance, education, and beyond.\n",
    "Companies are investing heavily in AI research to stay competitive and unlock new opportunities.\n",
    "However, ethical concerns such as job displacement and privacy need to be carefully addressed.\n",
    "\"\"\"\n",
    "\n",
    "# Get the summary\n",
    "# ✨ Use the summarizer to generate a summary\n",
    "summary = summarizer(text, max_length=60, min_length=25, do_sample=False)\n",
    "\n",
    "# Print the summary\n",
    "# 📃 Display the summary\n",
    "print(\"Summary:\")\n",
    "print(summary[0]['summary_text'])\n"
   ]
  }
 ],
 "metadata": {
  "colab": {
   "provenance": []
  },
  "kernelspec": {
   "display_name": "Python 3",
   "name": "python3"
  },
  "language_info": {
   "name": "python"
  }
 },
 "nbformat": 4,
 "nbformat_minor": 0
}
